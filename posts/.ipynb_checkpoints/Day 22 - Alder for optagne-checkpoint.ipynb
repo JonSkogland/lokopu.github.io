{
 "cells": [
  {
   "cell_type": "markdown",
   "id": "1ee95bd3-29eb-459f-8bb6-b415511ba952",
   "metadata": {},
   "source": [
    "---\n",
    "title: \"Day 22 - Alder for optagne på uddannelse\"\n",
    "date: 2025-08-10\n",
    "date-format: iso\n",
    "---"
   ]
  },
  {
   "cell_type": "markdown",
   "id": "2a3fe604-4047-4173-8133-40f0b3a1227f",
   "metadata": {},
   "source": [
    "Dataset hentet fra [UFM](https://ufm.dk/uddannelse/statistik-og-analyser/sogning-og-optag-pa-videregaende-uddannelser/grundtal-om-sogning-og-optag/ansogere-og-optagne-fordelt-pa-kon-alder-og-adgangsgrundlag)."
   ]
  },
  {
   "cell_type": "code",
   "execution_count": 455,
   "id": "ccb8a43a-39bc-42e8-a348-8b1815e0e8cb",
   "metadata": {},
   "outputs": [],
   "source": [
    "import pandas as pd\n",
    "import warnings\n",
    "\n",
    "warnings.filterwarnings(\n",
    "    \"ignore\",\n",
    "    category=UserWarning,\n",
    "    module=\"openpyxl.styles.stylesheet\"\n",
    ")"
   ]
  },
  {
   "cell_type": "code",
   "execution_count": 456,
   "id": "851e544f-7f4a-429e-8003-f829eab45fe6",
   "metadata": {},
   "outputs": [],
   "source": [
    "df = pd.read_excel(\"data/day22/Reelt optagne_alder.xlsx\")"
   ]
  },
  {
   "cell_type": "code",
   "execution_count": 457,
   "id": "445e94ed-90ba-48ab-890b-f3e280844321",
   "metadata": {},
   "outputs": [
    {
     "data": {
      "text/html": [
       "<div>\n",
       "<style scoped>\n",
       "    .dataframe tbody tr th:only-of-type {\n",
       "        vertical-align: middle;\n",
       "    }\n",
       "\n",
       "    .dataframe tbody tr th {\n",
       "        vertical-align: top;\n",
       "    }\n",
       "\n",
       "    .dataframe thead th {\n",
       "        text-align: right;\n",
       "    }\n",
       "</style>\n",
       "<table border=\"1\" class=\"dataframe\">\n",
       "  <thead>\n",
       "    <tr style=\"text-align: right;\">\n",
       "      <th></th>\n",
       "      <th>Den Koordinerede Tilmelding</th>\n",
       "      <th>Unnamed: 1</th>\n",
       "      <th>Unnamed: 2</th>\n",
       "      <th>Reelt optagne uanset prioritet fordelt på alder</th>\n",
       "      <th>Unnamed: 4</th>\n",
       "      <th>Unnamed: 5</th>\n",
       "      <th>Unnamed: 6</th>\n",
       "      <th>Unnamed: 7</th>\n",
       "      <th>Unnamed: 8</th>\n",
       "      <th>Unnamed: 9</th>\n",
       "      <th>Unnamed: 10</th>\n",
       "      <th>Unnamed: 11</th>\n",
       "      <th>Unnamed: 12</th>\n",
       "      <th>Unnamed: 13</th>\n",
       "      <th>Unnamed: 14</th>\n",
       "    </tr>\n",
       "  </thead>\n",
       "  <tbody>\n",
       "    <tr>\n",
       "      <th>0</th>\n",
       "      <td>NaN</td>\n",
       "      <td>NaN</td>\n",
       "      <td>NaN</td>\n",
       "      <td>21-juli-2025</td>\n",
       "      <td>NaN</td>\n",
       "      <td>NaN</td>\n",
       "      <td>NaN</td>\n",
       "      <td>NaN</td>\n",
       "      <td>NaN</td>\n",
       "      <td>NaN</td>\n",
       "      <td>NaN</td>\n",
       "      <td>NaN</td>\n",
       "      <td>NaN</td>\n",
       "      <td>NaN</td>\n",
       "      <td>NaN</td>\n",
       "    </tr>\n",
       "    <tr>\n",
       "      <th>1</th>\n",
       "      <td>NaN</td>\n",
       "      <td>NaN</td>\n",
       "      <td>NaN</td>\n",
       "      <td>NaN</td>\n",
       "      <td>NaN</td>\n",
       "      <td>NaN</td>\n",
       "      <td>NaN</td>\n",
       "      <td>NaN</td>\n",
       "      <td>NaN</td>\n",
       "      <td>NaN</td>\n",
       "      <td>NaN</td>\n",
       "      <td>NaN</td>\n",
       "      <td>NaN</td>\n",
       "      <td>NaN</td>\n",
       "      <td>NaN</td>\n",
       "    </tr>\n",
       "    <tr>\n",
       "      <th>2</th>\n",
       "      <td>InstNr</td>\n",
       "      <td>InstNavn</td>\n",
       "      <td>OptNr</td>\n",
       "      <td>OptNavn</td>\n",
       "      <td>Yngre</td>\n",
       "      <td>19.0</td>\n",
       "      <td>20.0</td>\n",
       "      <td>21.0</td>\n",
       "      <td>22.0</td>\n",
       "      <td>23.0</td>\n",
       "      <td>24.0</td>\n",
       "      <td>25.0</td>\n",
       "      <td>26-30</td>\n",
       "      <td>Ældre</td>\n",
       "      <td>I alt</td>\n",
       "    </tr>\n",
       "    <tr>\n",
       "      <th>3</th>\n",
       "      <td>1000</td>\n",
       "      <td>Københavns Universitet</td>\n",
       "      <td>10110</td>\n",
       "      <td>Medicin, København Ø, Studiestart: sommer- og ...</td>\n",
       "      <td>26</td>\n",
       "      <td>71.0</td>\n",
       "      <td>110.0</td>\n",
       "      <td>127.0</td>\n",
       "      <td>81.0</td>\n",
       "      <td>21.0</td>\n",
       "      <td>18.0</td>\n",
       "      <td>5.0</td>\n",
       "      <td>12</td>\n",
       "      <td>7</td>\n",
       "      <td>478</td>\n",
       "    </tr>\n",
       "    <tr>\n",
       "      <th>4</th>\n",
       "      <td>1000</td>\n",
       "      <td>Københavns Universitet</td>\n",
       "      <td>10112</td>\n",
       "      <td>Medicin, Køge, Studiestart: sommer- og vinters...</td>\n",
       "      <td>6</td>\n",
       "      <td>15.0</td>\n",
       "      <td>20.0</td>\n",
       "      <td>26.0</td>\n",
       "      <td>23.0</td>\n",
       "      <td>14.0</td>\n",
       "      <td>13.0</td>\n",
       "      <td>3.0</td>\n",
       "      <td>6</td>\n",
       "      <td>8</td>\n",
       "      <td>134</td>\n",
       "    </tr>\n",
       "    <tr>\n",
       "      <th>...</th>\n",
       "      <td>...</td>\n",
       "      <td>...</td>\n",
       "      <td>...</td>\n",
       "      <td>...</td>\n",
       "      <td>...</td>\n",
       "      <td>...</td>\n",
       "      <td>...</td>\n",
       "      <td>...</td>\n",
       "      <td>...</td>\n",
       "      <td>...</td>\n",
       "      <td>...</td>\n",
       "      <td>...</td>\n",
       "      <td>...</td>\n",
       "      <td>...</td>\n",
       "      <td>...</td>\n",
       "    </tr>\n",
       "    <tr>\n",
       "      <th>938</th>\n",
       "      <td>8800</td>\n",
       "      <td>Erhvervsakademi Dania</td>\n",
       "      <td>86160</td>\n",
       "      <td>Service- og oplevelsesøkonom, Randers SØ, Stud...</td>\n",
       "      <td>NaN</td>\n",
       "      <td>NaN</td>\n",
       "      <td>1.0</td>\n",
       "      <td>4.0</td>\n",
       "      <td>3.0</td>\n",
       "      <td>NaN</td>\n",
       "      <td>1.0</td>\n",
       "      <td>1.0</td>\n",
       "      <td>1</td>\n",
       "      <td>NaN</td>\n",
       "      <td>11</td>\n",
       "    </tr>\n",
       "    <tr>\n",
       "      <th>939</th>\n",
       "      <td>8800</td>\n",
       "      <td>Erhvervsakademi Dania</td>\n",
       "      <td>86164</td>\n",
       "      <td>Service- og oplevelsesøkonom, Randers SØ, E-læ...</td>\n",
       "      <td>NaN</td>\n",
       "      <td>NaN</td>\n",
       "      <td>1.0</td>\n",
       "      <td>2.0</td>\n",
       "      <td>1.0</td>\n",
       "      <td>3.0</td>\n",
       "      <td>3.0</td>\n",
       "      <td>NaN</td>\n",
       "      <td>6</td>\n",
       "      <td>6</td>\n",
       "      <td>22</td>\n",
       "    </tr>\n",
       "    <tr>\n",
       "      <th>940</th>\n",
       "      <td>8800</td>\n",
       "      <td>Erhvervsakademi Dania</td>\n",
       "      <td>86166</td>\n",
       "      <td>Service- og oplevelsesøkonom, Randers SØ, E-læ...</td>\n",
       "      <td>NaN</td>\n",
       "      <td>NaN</td>\n",
       "      <td>NaN</td>\n",
       "      <td>NaN</td>\n",
       "      <td>1.0</td>\n",
       "      <td>2.0</td>\n",
       "      <td>NaN</td>\n",
       "      <td>1.0</td>\n",
       "      <td>1</td>\n",
       "      <td>NaN</td>\n",
       "      <td>5</td>\n",
       "    </tr>\n",
       "    <tr>\n",
       "      <th>941</th>\n",
       "      <td>8800</td>\n",
       "      <td>Erhvervsakademi Dania</td>\n",
       "      <td>87110</td>\n",
       "      <td>Logistikøkonom , Hobro, Studiestart: sommerstart</td>\n",
       "      <td>NaN</td>\n",
       "      <td>NaN</td>\n",
       "      <td>NaN</td>\n",
       "      <td>NaN</td>\n",
       "      <td>NaN</td>\n",
       "      <td>NaN</td>\n",
       "      <td>1.0</td>\n",
       "      <td>1.0</td>\n",
       "      <td>4</td>\n",
       "      <td>7</td>\n",
       "      <td>13</td>\n",
       "    </tr>\n",
       "    <tr>\n",
       "      <th>942</th>\n",
       "      <td>8800</td>\n",
       "      <td>Erhvervsakademi Dania</td>\n",
       "      <td>87112</td>\n",
       "      <td>Logistikøkonom , Hobro, E-læring, Studiestart:...</td>\n",
       "      <td>NaN</td>\n",
       "      <td>NaN</td>\n",
       "      <td>NaN</td>\n",
       "      <td>2.0</td>\n",
       "      <td>3.0</td>\n",
       "      <td>3.0</td>\n",
       "      <td>1.0</td>\n",
       "      <td>4.0</td>\n",
       "      <td>14</td>\n",
       "      <td>10</td>\n",
       "      <td>37</td>\n",
       "    </tr>\n",
       "  </tbody>\n",
       "</table>\n",
       "<p>943 rows × 15 columns</p>\n",
       "</div>"
      ],
      "text/plain": [
       "    Den Koordinerede Tilmelding              Unnamed: 1 Unnamed: 2  \\\n",
       "0                           NaN                     NaN        NaN   \n",
       "1                           NaN                     NaN        NaN   \n",
       "2                        InstNr                InstNavn      OptNr   \n",
       "3                          1000  Københavns Universitet      10110   \n",
       "4                          1000  Københavns Universitet      10112   \n",
       "..                          ...                     ...        ...   \n",
       "938                        8800   Erhvervsakademi Dania      86160   \n",
       "939                        8800   Erhvervsakademi Dania      86164   \n",
       "940                        8800   Erhvervsakademi Dania      86166   \n",
       "941                        8800   Erhvervsakademi Dania      87110   \n",
       "942                        8800   Erhvervsakademi Dania      87112   \n",
       "\n",
       "       Reelt optagne uanset prioritet fordelt på alder Unnamed: 4  Unnamed: 5  \\\n",
       "0                                         21-juli-2025        NaN         NaN   \n",
       "1                                                  NaN        NaN         NaN   \n",
       "2                                              OptNavn      Yngre        19.0   \n",
       "3    Medicin, København Ø, Studiestart: sommer- og ...         26        71.0   \n",
       "4    Medicin, Køge, Studiestart: sommer- og vinters...          6        15.0   \n",
       "..                                                 ...        ...         ...   \n",
       "938  Service- og oplevelsesøkonom, Randers SØ, Stud...        NaN         NaN   \n",
       "939  Service- og oplevelsesøkonom, Randers SØ, E-læ...        NaN         NaN   \n",
       "940  Service- og oplevelsesøkonom, Randers SØ, E-læ...        NaN         NaN   \n",
       "941   Logistikøkonom , Hobro, Studiestart: sommerstart        NaN         NaN   \n",
       "942  Logistikøkonom , Hobro, E-læring, Studiestart:...        NaN         NaN   \n",
       "\n",
       "     Unnamed: 6  Unnamed: 7  Unnamed: 8  Unnamed: 9  Unnamed: 10  Unnamed: 11  \\\n",
       "0           NaN         NaN         NaN         NaN          NaN          NaN   \n",
       "1           NaN         NaN         NaN         NaN          NaN          NaN   \n",
       "2          20.0        21.0        22.0        23.0         24.0         25.0   \n",
       "3         110.0       127.0        81.0        21.0         18.0          5.0   \n",
       "4          20.0        26.0        23.0        14.0         13.0          3.0   \n",
       "..          ...         ...         ...         ...          ...          ...   \n",
       "938         1.0         4.0         3.0         NaN          1.0          1.0   \n",
       "939         1.0         2.0         1.0         3.0          3.0          NaN   \n",
       "940         NaN         NaN         1.0         2.0          NaN          1.0   \n",
       "941         NaN         NaN         NaN         NaN          1.0          1.0   \n",
       "942         NaN         2.0         3.0         3.0          1.0          4.0   \n",
       "\n",
       "    Unnamed: 12 Unnamed: 13 Unnamed: 14  \n",
       "0           NaN         NaN         NaN  \n",
       "1           NaN         NaN         NaN  \n",
       "2         26-30       Ældre       I alt  \n",
       "3            12           7         478  \n",
       "4             6           8         134  \n",
       "..          ...         ...         ...  \n",
       "938           1         NaN          11  \n",
       "939           6           6          22  \n",
       "940           1         NaN           5  \n",
       "941           4           7          13  \n",
       "942          14          10          37  \n",
       "\n",
       "[943 rows x 15 columns]"
      ]
     },
     "execution_count": 457,
     "metadata": {},
     "output_type": "execute_result"
    }
   ],
   "source": [
    "df"
   ]
  },
  {
   "cell_type": "code",
   "execution_count": 458,
   "id": "6e099b1b-8d2a-4716-876d-8484239da9a5",
   "metadata": {},
   "outputs": [],
   "source": [
    "# Fjerne 2 første rækker\n",
    "df = df.iloc[2:,:]"
   ]
  },
  {
   "cell_type": "code",
   "execution_count": 459,
   "id": "949d6d0f-f2d5-49aa-b28b-6926078465c9",
   "metadata": {},
   "outputs": [],
   "source": [
    "# Tilføje øverste række som kolonne navne\n",
    "ny_header = df.iloc[0] # Gemme kolonnenavne\n",
    "df = df.iloc[1:] # Fjerne øverste kolonne fra DataFrame\n",
    "df.columns = ny_header"
   ]
  },
  {
   "cell_type": "code",
   "execution_count": 460,
   "id": "dc397b1a-52f8-422b-b069-73baa5381023",
   "metadata": {},
   "outputs": [
    {
     "data": {
      "text/html": [
       "<div>\n",
       "<style scoped>\n",
       "    .dataframe tbody tr th:only-of-type {\n",
       "        vertical-align: middle;\n",
       "    }\n",
       "\n",
       "    .dataframe tbody tr th {\n",
       "        vertical-align: top;\n",
       "    }\n",
       "\n",
       "    .dataframe thead th {\n",
       "        text-align: right;\n",
       "    }\n",
       "</style>\n",
       "<table border=\"1\" class=\"dataframe\">\n",
       "  <thead>\n",
       "    <tr style=\"text-align: right;\">\n",
       "      <th>2</th>\n",
       "      <th>InstNr</th>\n",
       "      <th>InstNavn</th>\n",
       "      <th>OptNr</th>\n",
       "      <th>OptNavn</th>\n",
       "      <th>Yngre</th>\n",
       "      <th>19.0</th>\n",
       "      <th>20.0</th>\n",
       "      <th>21.0</th>\n",
       "      <th>22.0</th>\n",
       "      <th>23.0</th>\n",
       "      <th>24.0</th>\n",
       "      <th>25.0</th>\n",
       "      <th>26-30</th>\n",
       "      <th>Ældre</th>\n",
       "      <th>I alt</th>\n",
       "    </tr>\n",
       "  </thead>\n",
       "  <tbody>\n",
       "    <tr>\n",
       "      <th>3</th>\n",
       "      <td>1000</td>\n",
       "      <td>Københavns Universitet</td>\n",
       "      <td>10110</td>\n",
       "      <td>Medicin, København Ø, Studiestart: sommer- og ...</td>\n",
       "      <td>26</td>\n",
       "      <td>71.0</td>\n",
       "      <td>110.0</td>\n",
       "      <td>127.0</td>\n",
       "      <td>81.0</td>\n",
       "      <td>21.0</td>\n",
       "      <td>18.0</td>\n",
       "      <td>5.0</td>\n",
       "      <td>12</td>\n",
       "      <td>7</td>\n",
       "      <td>478</td>\n",
       "    </tr>\n",
       "    <tr>\n",
       "      <th>4</th>\n",
       "      <td>1000</td>\n",
       "      <td>Københavns Universitet</td>\n",
       "      <td>10112</td>\n",
       "      <td>Medicin, Køge, Studiestart: sommer- og vinters...</td>\n",
       "      <td>6</td>\n",
       "      <td>15.0</td>\n",
       "      <td>20.0</td>\n",
       "      <td>26.0</td>\n",
       "      <td>23.0</td>\n",
       "      <td>14.0</td>\n",
       "      <td>13.0</td>\n",
       "      <td>3.0</td>\n",
       "      <td>6</td>\n",
       "      <td>8</td>\n",
       "      <td>134</td>\n",
       "    </tr>\n",
       "    <tr>\n",
       "      <th>5</th>\n",
       "      <td>1000</td>\n",
       "      <td>Københavns Universitet</td>\n",
       "      <td>10115</td>\n",
       "      <td>Folkesundhedsvidenskab, København K, Studiesta...</td>\n",
       "      <td>NaN</td>\n",
       "      <td>1.0</td>\n",
       "      <td>10.0</td>\n",
       "      <td>23.0</td>\n",
       "      <td>24.0</td>\n",
       "      <td>8.0</td>\n",
       "      <td>1.0</td>\n",
       "      <td>NaN</td>\n",
       "      <td>1</td>\n",
       "      <td>NaN</td>\n",
       "      <td>68</td>\n",
       "    </tr>\n",
       "    <tr>\n",
       "      <th>6</th>\n",
       "      <td>1000</td>\n",
       "      <td>Københavns Universitet</td>\n",
       "      <td>10117</td>\n",
       "      <td>Farmaci, København Ø, Studiestart: sommerstart</td>\n",
       "      <td>23</td>\n",
       "      <td>42.0</td>\n",
       "      <td>49.0</td>\n",
       "      <td>51.0</td>\n",
       "      <td>33.0</td>\n",
       "      <td>18.0</td>\n",
       "      <td>4.0</td>\n",
       "      <td>2.0</td>\n",
       "      <td>4</td>\n",
       "      <td>2</td>\n",
       "      <td>228</td>\n",
       "    </tr>\n",
       "    <tr>\n",
       "      <th>7</th>\n",
       "      <td>1000</td>\n",
       "      <td>Københavns Universitet</td>\n",
       "      <td>10120</td>\n",
       "      <td>Odontologi, København Ø, Studiestart: sommerstart</td>\n",
       "      <td>13</td>\n",
       "      <td>14.0</td>\n",
       "      <td>16.0</td>\n",
       "      <td>24.0</td>\n",
       "      <td>23.0</td>\n",
       "      <td>10.0</td>\n",
       "      <td>5.0</td>\n",
       "      <td>2.0</td>\n",
       "      <td>8</td>\n",
       "      <td>5</td>\n",
       "      <td>120</td>\n",
       "    </tr>\n",
       "    <tr>\n",
       "      <th>...</th>\n",
       "      <td>...</td>\n",
       "      <td>...</td>\n",
       "      <td>...</td>\n",
       "      <td>...</td>\n",
       "      <td>...</td>\n",
       "      <td>...</td>\n",
       "      <td>...</td>\n",
       "      <td>...</td>\n",
       "      <td>...</td>\n",
       "      <td>...</td>\n",
       "      <td>...</td>\n",
       "      <td>...</td>\n",
       "      <td>...</td>\n",
       "      <td>...</td>\n",
       "      <td>...</td>\n",
       "    </tr>\n",
       "    <tr>\n",
       "      <th>938</th>\n",
       "      <td>8800</td>\n",
       "      <td>Erhvervsakademi Dania</td>\n",
       "      <td>86160</td>\n",
       "      <td>Service- og oplevelsesøkonom, Randers SØ, Stud...</td>\n",
       "      <td>NaN</td>\n",
       "      <td>NaN</td>\n",
       "      <td>1.0</td>\n",
       "      <td>4.0</td>\n",
       "      <td>3.0</td>\n",
       "      <td>NaN</td>\n",
       "      <td>1.0</td>\n",
       "      <td>1.0</td>\n",
       "      <td>1</td>\n",
       "      <td>NaN</td>\n",
       "      <td>11</td>\n",
       "    </tr>\n",
       "    <tr>\n",
       "      <th>939</th>\n",
       "      <td>8800</td>\n",
       "      <td>Erhvervsakademi Dania</td>\n",
       "      <td>86164</td>\n",
       "      <td>Service- og oplevelsesøkonom, Randers SØ, E-læ...</td>\n",
       "      <td>NaN</td>\n",
       "      <td>NaN</td>\n",
       "      <td>1.0</td>\n",
       "      <td>2.0</td>\n",
       "      <td>1.0</td>\n",
       "      <td>3.0</td>\n",
       "      <td>3.0</td>\n",
       "      <td>NaN</td>\n",
       "      <td>6</td>\n",
       "      <td>6</td>\n",
       "      <td>22</td>\n",
       "    </tr>\n",
       "    <tr>\n",
       "      <th>940</th>\n",
       "      <td>8800</td>\n",
       "      <td>Erhvervsakademi Dania</td>\n",
       "      <td>86166</td>\n",
       "      <td>Service- og oplevelsesøkonom, Randers SØ, E-læ...</td>\n",
       "      <td>NaN</td>\n",
       "      <td>NaN</td>\n",
       "      <td>NaN</td>\n",
       "      <td>NaN</td>\n",
       "      <td>1.0</td>\n",
       "      <td>2.0</td>\n",
       "      <td>NaN</td>\n",
       "      <td>1.0</td>\n",
       "      <td>1</td>\n",
       "      <td>NaN</td>\n",
       "      <td>5</td>\n",
       "    </tr>\n",
       "    <tr>\n",
       "      <th>941</th>\n",
       "      <td>8800</td>\n",
       "      <td>Erhvervsakademi Dania</td>\n",
       "      <td>87110</td>\n",
       "      <td>Logistikøkonom , Hobro, Studiestart: sommerstart</td>\n",
       "      <td>NaN</td>\n",
       "      <td>NaN</td>\n",
       "      <td>NaN</td>\n",
       "      <td>NaN</td>\n",
       "      <td>NaN</td>\n",
       "      <td>NaN</td>\n",
       "      <td>1.0</td>\n",
       "      <td>1.0</td>\n",
       "      <td>4</td>\n",
       "      <td>7</td>\n",
       "      <td>13</td>\n",
       "    </tr>\n",
       "    <tr>\n",
       "      <th>942</th>\n",
       "      <td>8800</td>\n",
       "      <td>Erhvervsakademi Dania</td>\n",
       "      <td>87112</td>\n",
       "      <td>Logistikøkonom , Hobro, E-læring, Studiestart:...</td>\n",
       "      <td>NaN</td>\n",
       "      <td>NaN</td>\n",
       "      <td>NaN</td>\n",
       "      <td>2.0</td>\n",
       "      <td>3.0</td>\n",
       "      <td>3.0</td>\n",
       "      <td>1.0</td>\n",
       "      <td>4.0</td>\n",
       "      <td>14</td>\n",
       "      <td>10</td>\n",
       "      <td>37</td>\n",
       "    </tr>\n",
       "  </tbody>\n",
       "</table>\n",
       "<p>940 rows × 15 columns</p>\n",
       "</div>"
      ],
      "text/plain": [
       "2   InstNr                InstNavn  OptNr  \\\n",
       "3     1000  Københavns Universitet  10110   \n",
       "4     1000  Københavns Universitet  10112   \n",
       "5     1000  Københavns Universitet  10115   \n",
       "6     1000  Københavns Universitet  10117   \n",
       "7     1000  Københavns Universitet  10120   \n",
       "..     ...                     ...    ...   \n",
       "938   8800   Erhvervsakademi Dania  86160   \n",
       "939   8800   Erhvervsakademi Dania  86164   \n",
       "940   8800   Erhvervsakademi Dania  86166   \n",
       "941   8800   Erhvervsakademi Dania  87110   \n",
       "942   8800   Erhvervsakademi Dania  87112   \n",
       "\n",
       "2                                              OptNavn Yngre  19.0   20.0  \\\n",
       "3    Medicin, København Ø, Studiestart: sommer- og ...    26  71.0  110.0   \n",
       "4    Medicin, Køge, Studiestart: sommer- og vinters...     6  15.0   20.0   \n",
       "5    Folkesundhedsvidenskab, København K, Studiesta...   NaN   1.0   10.0   \n",
       "6       Farmaci, København Ø, Studiestart: sommerstart    23  42.0   49.0   \n",
       "7    Odontologi, København Ø, Studiestart: sommerstart    13  14.0   16.0   \n",
       "..                                                 ...   ...   ...    ...   \n",
       "938  Service- og oplevelsesøkonom, Randers SØ, Stud...   NaN   NaN    1.0   \n",
       "939  Service- og oplevelsesøkonom, Randers SØ, E-læ...   NaN   NaN    1.0   \n",
       "940  Service- og oplevelsesøkonom, Randers SØ, E-læ...   NaN   NaN    NaN   \n",
       "941   Logistikøkonom , Hobro, Studiestart: sommerstart   NaN   NaN    NaN   \n",
       "942  Logistikøkonom , Hobro, E-læring, Studiestart:...   NaN   NaN    NaN   \n",
       "\n",
       "2     21.0  22.0  23.0  24.0  25.0 26-30 Ældre I alt  \n",
       "3    127.0  81.0  21.0  18.0   5.0    12     7   478  \n",
       "4     26.0  23.0  14.0  13.0   3.0     6     8   134  \n",
       "5     23.0  24.0   8.0   1.0   NaN     1   NaN    68  \n",
       "6     51.0  33.0  18.0   4.0   2.0     4     2   228  \n",
       "7     24.0  23.0  10.0   5.0   2.0     8     5   120  \n",
       "..     ...   ...   ...   ...   ...   ...   ...   ...  \n",
       "938    4.0   3.0   NaN   1.0   1.0     1   NaN    11  \n",
       "939    2.0   1.0   3.0   3.0   NaN     6     6    22  \n",
       "940    NaN   1.0   2.0   NaN   1.0     1   NaN     5  \n",
       "941    NaN   NaN   NaN   1.0   1.0     4     7    13  \n",
       "942    2.0   3.0   3.0   1.0   4.0    14    10    37  \n",
       "\n",
       "[940 rows x 15 columns]"
      ]
     },
     "execution_count": 460,
     "metadata": {},
     "output_type": "execute_result"
    }
   ],
   "source": [
    "df"
   ]
  },
  {
   "cell_type": "code",
   "execution_count": 461,
   "id": "2d1a5769-0591-4c9b-8439-2489c0bf136c",
   "metadata": {},
   "outputs": [],
   "source": [
    "# Pivotere data fra wide til long format for nemmere dataanalyse\n",
    "melted = pd.melt(df, id_vars=ny_header[:4], value_vars=ny_header[4:-1], var_name='Alder', value_name='Antal')"
   ]
  },
  {
   "cell_type": "code",
   "execution_count": 462,
   "id": "8339f54b-1317-468a-a920-f9b7774cc7fb",
   "metadata": {},
   "outputs": [
    {
     "data": {
      "text/html": [
       "<div>\n",
       "<style scoped>\n",
       "    .dataframe tbody tr th:only-of-type {\n",
       "        vertical-align: middle;\n",
       "    }\n",
       "\n",
       "    .dataframe tbody tr th {\n",
       "        vertical-align: top;\n",
       "    }\n",
       "\n",
       "    .dataframe thead th {\n",
       "        text-align: right;\n",
       "    }\n",
       "</style>\n",
       "<table border=\"1\" class=\"dataframe\">\n",
       "  <thead>\n",
       "    <tr style=\"text-align: right;\">\n",
       "      <th></th>\n",
       "      <th>InstNr</th>\n",
       "      <th>InstNavn</th>\n",
       "      <th>OptNr</th>\n",
       "      <th>OptNavn</th>\n",
       "      <th>Alder</th>\n",
       "      <th>Antal</th>\n",
       "    </tr>\n",
       "  </thead>\n",
       "  <tbody>\n",
       "    <tr>\n",
       "      <th>0</th>\n",
       "      <td>1000</td>\n",
       "      <td>Københavns Universitet</td>\n",
       "      <td>10110</td>\n",
       "      <td>Medicin, København Ø, Studiestart: sommer- og ...</td>\n",
       "      <td>Yngre</td>\n",
       "      <td>26</td>\n",
       "    </tr>\n",
       "    <tr>\n",
       "      <th>1</th>\n",
       "      <td>1000</td>\n",
       "      <td>Københavns Universitet</td>\n",
       "      <td>10112</td>\n",
       "      <td>Medicin, Køge, Studiestart: sommer- og vinters...</td>\n",
       "      <td>Yngre</td>\n",
       "      <td>6</td>\n",
       "    </tr>\n",
       "    <tr>\n",
       "      <th>2</th>\n",
       "      <td>1000</td>\n",
       "      <td>Københavns Universitet</td>\n",
       "      <td>10115</td>\n",
       "      <td>Folkesundhedsvidenskab, København K, Studiesta...</td>\n",
       "      <td>Yngre</td>\n",
       "      <td>NaN</td>\n",
       "    </tr>\n",
       "    <tr>\n",
       "      <th>3</th>\n",
       "      <td>1000</td>\n",
       "      <td>Københavns Universitet</td>\n",
       "      <td>10117</td>\n",
       "      <td>Farmaci, København Ø, Studiestart: sommerstart</td>\n",
       "      <td>Yngre</td>\n",
       "      <td>23</td>\n",
       "    </tr>\n",
       "    <tr>\n",
       "      <th>4</th>\n",
       "      <td>1000</td>\n",
       "      <td>Københavns Universitet</td>\n",
       "      <td>10120</td>\n",
       "      <td>Odontologi, København Ø, Studiestart: sommerstart</td>\n",
       "      <td>Yngre</td>\n",
       "      <td>13</td>\n",
       "    </tr>\n",
       "    <tr>\n",
       "      <th>...</th>\n",
       "      <td>...</td>\n",
       "      <td>...</td>\n",
       "      <td>...</td>\n",
       "      <td>...</td>\n",
       "      <td>...</td>\n",
       "      <td>...</td>\n",
       "    </tr>\n",
       "    <tr>\n",
       "      <th>9395</th>\n",
       "      <td>8800</td>\n",
       "      <td>Erhvervsakademi Dania</td>\n",
       "      <td>86160</td>\n",
       "      <td>Service- og oplevelsesøkonom, Randers SØ, Stud...</td>\n",
       "      <td>Ældre</td>\n",
       "      <td>NaN</td>\n",
       "    </tr>\n",
       "    <tr>\n",
       "      <th>9396</th>\n",
       "      <td>8800</td>\n",
       "      <td>Erhvervsakademi Dania</td>\n",
       "      <td>86164</td>\n",
       "      <td>Service- og oplevelsesøkonom, Randers SØ, E-læ...</td>\n",
       "      <td>Ældre</td>\n",
       "      <td>6</td>\n",
       "    </tr>\n",
       "    <tr>\n",
       "      <th>9397</th>\n",
       "      <td>8800</td>\n",
       "      <td>Erhvervsakademi Dania</td>\n",
       "      <td>86166</td>\n",
       "      <td>Service- og oplevelsesøkonom, Randers SØ, E-læ...</td>\n",
       "      <td>Ældre</td>\n",
       "      <td>NaN</td>\n",
       "    </tr>\n",
       "    <tr>\n",
       "      <th>9398</th>\n",
       "      <td>8800</td>\n",
       "      <td>Erhvervsakademi Dania</td>\n",
       "      <td>87110</td>\n",
       "      <td>Logistikøkonom , Hobro, Studiestart: sommerstart</td>\n",
       "      <td>Ældre</td>\n",
       "      <td>7</td>\n",
       "    </tr>\n",
       "    <tr>\n",
       "      <th>9399</th>\n",
       "      <td>8800</td>\n",
       "      <td>Erhvervsakademi Dania</td>\n",
       "      <td>87112</td>\n",
       "      <td>Logistikøkonom , Hobro, E-læring, Studiestart:...</td>\n",
       "      <td>Ældre</td>\n",
       "      <td>10</td>\n",
       "    </tr>\n",
       "  </tbody>\n",
       "</table>\n",
       "<p>9400 rows × 6 columns</p>\n",
       "</div>"
      ],
      "text/plain": [
       "     InstNr                InstNavn  OptNr  \\\n",
       "0      1000  Københavns Universitet  10110   \n",
       "1      1000  Københavns Universitet  10112   \n",
       "2      1000  Københavns Universitet  10115   \n",
       "3      1000  Københavns Universitet  10117   \n",
       "4      1000  Københavns Universitet  10120   \n",
       "...     ...                     ...    ...   \n",
       "9395   8800   Erhvervsakademi Dania  86160   \n",
       "9396   8800   Erhvervsakademi Dania  86164   \n",
       "9397   8800   Erhvervsakademi Dania  86166   \n",
       "9398   8800   Erhvervsakademi Dania  87110   \n",
       "9399   8800   Erhvervsakademi Dania  87112   \n",
       "\n",
       "                                                OptNavn  Alder Antal  \n",
       "0     Medicin, København Ø, Studiestart: sommer- og ...  Yngre    26  \n",
       "1     Medicin, Køge, Studiestart: sommer- og vinters...  Yngre     6  \n",
       "2     Folkesundhedsvidenskab, København K, Studiesta...  Yngre   NaN  \n",
       "3        Farmaci, København Ø, Studiestart: sommerstart  Yngre    23  \n",
       "4     Odontologi, København Ø, Studiestart: sommerstart  Yngre    13  \n",
       "...                                                 ...    ...   ...  \n",
       "9395  Service- og oplevelsesøkonom, Randers SØ, Stud...  Ældre   NaN  \n",
       "9396  Service- og oplevelsesøkonom, Randers SØ, E-læ...  Ældre     6  \n",
       "9397  Service- og oplevelsesøkonom, Randers SØ, E-læ...  Ældre   NaN  \n",
       "9398   Logistikøkonom , Hobro, Studiestart: sommerstart  Ældre     7  \n",
       "9399  Logistikøkonom , Hobro, E-læring, Studiestart:...  Ældre    10  \n",
       "\n",
       "[9400 rows x 6 columns]"
      ]
     },
     "execution_count": 462,
     "metadata": {},
     "output_type": "execute_result"
    }
   ],
   "source": [
    "melted"
   ]
  },
  {
   "cell_type": "code",
   "execution_count": 463,
   "id": "387d5e20-7467-46d8-95bb-8f6a07d8796e",
   "metadata": {},
   "outputs": [],
   "source": [
    "pd.set_option('future.no_silent_downcasting', True)\n",
    "melted = melted.fillna(0).infer_objects(copy=False)"
   ]
  },
  {
   "cell_type": "code",
   "execution_count": 464,
   "id": "9cd2d948-1c92-47d9-803b-e529a94fdab4",
   "metadata": {},
   "outputs": [
    {
     "data": {
      "text/plain": [
       "InstNr        int64\n",
       "InstNavn     object\n",
       "OptNr         int64\n",
       "OptNavn      object\n",
       "Alder        object\n",
       "Antal       float64\n",
       "dtype: object"
      ]
     },
     "execution_count": 464,
     "metadata": {},
     "output_type": "execute_result"
    }
   ],
   "source": [
    "melted.dtypes"
   ]
  },
  {
   "cell_type": "code",
   "execution_count": 465,
   "id": "242a8628-0247-4bdb-ae3a-1c0014af85ad",
   "metadata": {},
   "outputs": [],
   "source": [
    "melted['Alder'] = melted['Alder'].astype(str)"
   ]
  },
  {
   "cell_type": "code",
   "execution_count": 466,
   "id": "d7fb5b46-9ac0-4df5-8564-1ff2d9906203",
   "metadata": {},
   "outputs": [],
   "source": [
    "import matplotlib.pyplot as plt\n",
    "import numpy as np\n"
   ]
  },
  {
   "cell_type": "code",
   "execution_count": 467,
   "id": "657ad8fb-56a7-4ee8-ba1a-0ac73370f538",
   "metadata": {},
   "outputs": [
    {
     "data": {
      "image/png": "[encoded data removed]",
      "text/plain": [
       "<Figure size 640x480 with 1 Axes>"
      ]
     },
     "metadata": {},
     "output_type": "display_data"
    }
   ],
   "source": [
    "plt.bar(melted['Alder'], melted['Antal'])\n",
    "plt.xlabel(\"Alder\")\n",
    "plt.ylabel(\"Antal\")\n",
    "plt.title(\"Antal pr. Alder\")\n",
    "plt.xticks(rotation=45) \n",
    "plt.show()"
   ]
  },
  {
   "cell_type": "code",
   "execution_count": 468,
   "id": "679ed88e-9152-4cd1-adca-ee4f7dc16cf1",
   "metadata": {},
   "outputs": [
    {
     "data": {
      "text/plain": [
       "array(['Københavns Universitet',\n",
       "       'Copenhagen Business School - Handelshøjskolen',\n",
       "       'IT-Universitetet i København', 'Danmarks Tekniske Universitet',\n",
       "       'Roskilde Universitet', 'Syddansk Universitet',\n",
       "       'Aarhus Universitet', 'Aalborg Universitet',\n",
       "       'Det Kongelige Akademi - Arkitektur, Design, Konservering',\n",
       "       'Arkitektskolen Aarhus', 'Designskolen Kolding',\n",
       "       'Københavns Professionshøjskole', 'Professionshøjskolen Absalon',\n",
       "       'Professionshøjskolen UC Syddanmark',\n",
       "       'UCL Erhvervsakademi og Professionshøjskole',\n",
       "       'Professionshøjskolen VIA University College',\n",
       "       'Professionshøjskolen University College Nordjylland',\n",
       "       'Danmarks Medie- og Journalisthøjskole', 'Den Frie Lærerskole',\n",
       "       'Teknika – Copenhagen College of Technology Management and Marine Engineering',\n",
       "       'Svendborg International Maritime Academy, SIMAC',\n",
       "       'Fredericia Maskinmesterskole', 'Aarhus Maskinmesterskole',\n",
       "       'MARTEC - Maritime and Polytechnic University College',\n",
       "       'Erhvervsakademiet Copenhagen Business Academy',\n",
       "       'Københavns Erhvervsakademi (KEA)',\n",
       "       'Zealand Sjællands Erhvervsakademi', 'IBA Erhvervsakademi Kolding',\n",
       "       'Erhvervsakademi SydVest', 'Erhvervsakademi MidtVest',\n",
       "       'Erhvervsakademi Aarhus', 'Erhvervsakademi Dania'], dtype=object)"
      ]
     },
     "execution_count": 468,
     "metadata": {},
     "output_type": "execute_result"
    }
   ],
   "source": [
    "melted['InstNavn'].unique()"
   ]
  },
  {
   "cell_type": "code",
   "execution_count": 469,
   "id": "324b4185-7dbb-43f2-81bb-3a4b8c772af7",
   "metadata": {},
   "outputs": [],
   "source": [
    "kp = melted[melted['InstNavn'] == 'Københavns Professionshøjskole']"
   ]
  },
  {
   "cell_type": "code",
   "execution_count": 470,
   "id": "266eb82d-7000-42cf-af06-02efb28d6369",
   "metadata": {},
   "outputs": [],
   "source": [
    "# Gruppere kp DataFrame for alder for at kunne summere antal studerende korrekt\n",
    "kp = kp.groupby('Alder', as_index=False)['Antal'].sum()"
   ]
  },
  {
   "cell_type": "code",
   "execution_count": 471,
   "id": "bea98ba8-6657-47f8-ac3b-ce30bbccce4b",
   "metadata": {},
   "outputs": [
    {
     "data": {
      "image/png": "[encoded data removed]",
      "text/plain": [
       "<Figure size 640x480 with 1 Axes>"
      ]
     },
     "metadata": {},
     "output_type": "display_data"
    }
   ],
   "source": [
    "# Plot af alder for optagne på KPs uddannelser\n",
    "plt.bar(kp['Alder'], kp['Antal'])\n",
    "plt.xlabel(\"Alder\")\n",
    "plt.ylabel(\"Antal\")\n",
    "plt.title(\"KP - alder optagne\")\n",
    "plt.xticks(rotation=45) \n",
    "plt.show()"
   ]
  },
  {
   "cell_type": "markdown",
   "id": "171199b7-8159-4de2-84b3-2143fee56913",
   "metadata": {},
   "source": [
    "# Ekstrapolere distribution"
   ]
  },
  {
   "cell_type": "code",
   "execution_count": 472,
   "id": "d10763db-6a2a-4074-8556-a2e4dddbeaf3",
   "metadata": {},
   "outputs": [],
   "source": [
    "from scipy.stats import skewnorm"
   ]
  },
  {
   "cell_type": "code",
   "execution_count": 473,
   "id": "d5a465c0-0fbf-497a-a4e1-e2374e071f03",
   "metadata": {},
   "outputs": [],
   "source": [
    "# Filtere ikke grupperede kategorier i alder fra\n",
    "kp_filtered = kp.loc[(kp['Alder'] != 'Yngre') & (kp['Alder'] != 'Ældre') & (kp['Alder'] != '26-30')]"
   ]
  },
  {
   "cell_type": "code",
   "execution_count": 474,
   "id": "75ebece3-e170-4374-997a-a7fee5d8676c",
   "metadata": {},
   "outputs": [],
   "source": [
    "aldre = kp_filtered['Alder'].unique()"
   ]
  },
  {
   "cell_type": "code",
   "execution_count": 475,
   "id": "35ffb9b1-90f2-43c8-a941-609e3fef0ffd",
   "metadata": {},
   "outputs": [
    {
     "data": {
      "text/plain": [
       "(7,)"
      ]
     },
     "execution_count": 475,
     "metadata": {},
     "output_type": "execute_result"
    }
   ],
   "source": [
    "aldre.shape"
   ]
  },
  {
   "cell_type": "code",
   "execution_count": 476,
   "id": "faeda44f-1858-4153-b34a-cdd4c280b324",
   "metadata": {},
   "outputs": [],
   "source": [
    "aldre_kp = np.array(aldre)"
   ]
  },
  {
   "cell_type": "code",
   "execution_count": 477,
   "id": "93cc12f1-656b-4bfe-a373-16f5b263152a",
   "metadata": {},
   "outputs": [
    {
     "data": {
      "text/plain": [
       "(7,)"
      ]
     },
     "execution_count": 477,
     "metadata": {},
     "output_type": "execute_result"
    }
   ],
   "source": [
    "# Sikre at dise arrays har rigtig størrelse\n",
    "aldre_kp.shape"
   ]
  },
  {
   "cell_type": "code",
   "execution_count": 478,
   "id": "5d166ba8-473d-4f88-ab55-de8e862eec2a",
   "metadata": {},
   "outputs": [],
   "source": [
    "aldre = aldre.astype('float').astype('int')"
   ]
  },
  {
   "cell_type": "code",
   "execution_count": 479,
   "id": "7cb79adb-2fdb-4a89-890c-f96536a0cbff",
   "metadata": {},
   "outputs": [],
   "source": [
    "antal = np.array(kp_filtered.groupby('Alder')['Antal'].sum())"
   ]
  },
  {
   "cell_type": "code",
   "execution_count": 480,
   "id": "a6c0dce1-cb82-4f3e-a5b4-20d991dc132e",
   "metadata": {},
   "outputs": [],
   "source": [
    "antal = antal.astype('float').astype('int')"
   ]
  },
  {
   "cell_type": "code",
   "execution_count": 481,
   "id": "2bf608b5-907a-4432-8752-be9d4669df2e",
   "metadata": {},
   "outputs": [
    {
     "data": {
      "text/plain": [
       "array([307, 454, 768, 762, 580, 398, 241])"
      ]
     },
     "execution_count": 481,
     "metadata": {},
     "output_type": "execute_result"
    }
   ],
   "source": [
    "antal"
   ]
  },
  {
   "cell_type": "code",
   "execution_count": 482,
   "id": "d5adcdc6-9a4f-4346-b557-2a32fdad8223",
   "metadata": {},
   "outputs": [],
   "source": [
    "# Fit af distribution\n",
    "a, loc, scale = skewnorm.fit(np.repeat(aldre, antal))"
   ]
  },
  {
   "cell_type": "code",
   "execution_count": 483,
   "id": "aa4083f9-66c8-4ff5-bf70-d58f269a046b",
   "metadata": {},
   "outputs": [],
   "source": [
    "# Bestemme ny data range\n",
    "yderligere_aldre = np.arange(18, 30)"
   ]
  },
  {
   "cell_type": "code",
   "execution_count": 484,
   "id": "58bd8c29-7fd2-4db5-9156-d0e099e200ad",
   "metadata": {},
   "outputs": [],
   "source": [
    "pdf_værdier = skewnorm.pdf(yderligere_aldre, a, loc, scale)"
   ]
  },
  {
   "cell_type": "code",
   "execution_count": 485,
   "id": "c9fed6c1-84a3-47ff-a93e-183309eead6f",
   "metadata": {},
   "outputs": [],
   "source": [
    "pdf_skaleret = pdf_værdier * antal.sum() / pdf_værdier.sum()"
   ]
  },
  {
   "cell_type": "code",
   "execution_count": 486,
   "id": "450fc36b-ae54-4ddd-8eec-3c8ac3a8dcc1",
   "metadata": {},
   "outputs": [
    {
     "data": {
      "image/png": "[encoded data removed]",
      "text/plain": [
       "<Figure size 640x480 with 1 Axes>"
      ]
     },
     "metadata": {},
     "output_type": "display_data"
    }
   ],
   "source": [
    "# Plot af ekstrapoleret distribution\n",
    "plt.bar(aldre, antal, label='Kendt data')\n",
    "plt.plot(yderligere_aldre, pdf_skaleret, label='Ekstrapoleret distribution', color='red')\n",
    "plt.xlabel('Alder')\n",
    "plt.ylabel('Antal')\n",
    "plt.title('Alders distribution - KP')\n",
    "plt.legend()\n",
    "plt.show()\n"
   ]
  },
  {
   "cell_type": "markdown",
   "id": "977e0922-9c6c-43a1-bf5a-f1e8b8cd3699",
   "metadata": {},
   "source": [
    "Dette ser ikke helt så godt ud som man havde håbet, da antal studerende falder drastisk fra 26 modsat hvad der sker i datasættet. Dette skyldes at der ikke er taget højde for antal optagne som er yngre end 19 og ældre end 25. "
   ]
  },
  {
   "cell_type": "markdown",
   "id": "c44b83b5-c6cf-422c-bcf5-acf266493ae4",
   "metadata": {},
   "source": [
    "## Udregning af chance for at være under 19 år eller over 25 år gammel"
   ]
  },
  {
   "cell_type": "code",
   "execution_count": 487,
   "id": "71b1d5e6-10d5-4474-a4a8-eecacd4804c6",
   "metadata": {},
   "outputs": [],
   "source": [
    "yngre_antal = kp.loc[kp['Alder'] == 'Yngre', 'Antal'].sum()"
   ]
  },
  {
   "cell_type": "code",
   "execution_count": 488,
   "id": "d3bd15da-6f05-44e7-810c-2a77323301ee",
   "metadata": {},
   "outputs": [
    {
     "data": {
      "text/plain": [
       "np.float64(107.0)"
      ]
     },
     "execution_count": 488,
     "metadata": {},
     "output_type": "execute_result"
    }
   ],
   "source": [
    "yngre_antal"
   ]
  },
  {
   "cell_type": "code",
   "execution_count": 489,
   "id": "b257ff43-bb1b-4883-a662-901412a124ff",
   "metadata": {},
   "outputs": [],
   "source": [
    "ældre_antal = kp.loc[(kp['Alder'] == '26-30') | (kp['Alder'] == 'Ældre'), 'Antal'].sum()"
   ]
  },
  {
   "cell_type": "code",
   "execution_count": 490,
   "id": "0f1a6212-d69b-4867-9024-e38694b12609",
   "metadata": {},
   "outputs": [
    {
     "data": {
      "text/plain": [
       "np.float64(1002.0)"
      ]
     },
     "execution_count": 490,
     "metadata": {},
     "output_type": "execute_result"
    }
   ],
   "source": [
    "ældre_antal"
   ]
  },
  {
   "cell_type": "code",
   "execution_count": 491,
   "id": "627145e4-c761-4b52-9b24-d65a1566b59c",
   "metadata": {},
   "outputs": [],
   "source": [
    "p_yngre = yngre_antal / kp['Antal'].sum()"
   ]
  },
  {
   "cell_type": "code",
   "execution_count": 492,
   "id": "0188109f-7480-4f80-87ee-f2a9e2655bf0",
   "metadata": {},
   "outputs": [
    {
     "data": {
      "text/plain": [
       "np.float64(0.023165187269971854)"
      ]
     },
     "execution_count": 492,
     "metadata": {},
     "output_type": "execute_result"
    }
   ],
   "source": [
    "p_yngre"
   ]
  },
  {
   "cell_type": "code",
   "execution_count": 493,
   "id": "3a55bd12-906d-455d-b175-38093c581c69",
   "metadata": {},
   "outputs": [],
   "source": [
    "p_over25 = ældre_antal /  kp['Antal'].sum()"
   ]
  },
  {
   "cell_type": "code",
   "execution_count": 494,
   "id": "67b30d8b-e9dd-42d6-8d44-229f5381d92f",
   "metadata": {},
   "outputs": [
    {
     "data": {
      "text/plain": [
       "np.float64(0.2169300714440355)"
      ]
     },
     "execution_count": 494,
     "metadata": {},
     "output_type": "execute_result"
    }
   ],
   "source": [
    "p_over25"
   ]
  },
  {
   "cell_type": "markdown",
   "id": "bac407f5-680b-4d26-872d-2cdf36ba2541",
   "metadata": {},
   "source": [
    "Altså er der næsten 10 gange større chance for at en person er over 25 end vedkommende er under 19"
   ]
  }
 ],
 "metadata": {
  "kernelspec": {
   "display_name": "Python 3 (ipykernel)",
   "language": "python",
   "name": "python3"
  },
  "language_info": {
   "codemirror_mode": {
    "name": "ipython",
    "version": 3
   },
   "file_extension": ".py",
   "mimetype": "text/x-python",
   "name": "python",
   "nbconvert_exporter": "python",
   "pygments_lexer": "ipython3",
   "version": "3.13.3"
  }
 },
 "nbformat": 4,
 "nbformat_minor": 5
}
