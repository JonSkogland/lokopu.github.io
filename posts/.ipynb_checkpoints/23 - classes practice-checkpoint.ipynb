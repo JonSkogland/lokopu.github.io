{
 "cells": [
  {
   "cell_type": "markdown",
   "id": "bb7c0c40-5084-413f-a516-8e303f38d964",
   "metadata": {},
   "source": [
    "---\n",
    "title: '23 - Classes practice (recreating simple pandas DataFrame)'\n",
    "date: 2025-08-11\n",
    "categories: \n",
    "    - python\n",
    "---"
   ]
  },
  {
   "cell_type": "code",
   "execution_count": 52,
   "id": "de31ed96-37b5-439a-ba0b-2917736567f9",
   "metadata": {},
   "outputs": [],
   "source": [
    "import numpy as np\n",
    "from IPython.display import display, HTML"
   ]
  },
  {
   "cell_type": "markdown",
   "id": "b6b2378f-7258-405b-a506-8a1b5bb95be7",
   "metadata": {},
   "source": [
    "**Recreating the DataFrame class**"
   ]
  },
  {
   "cell_type": "code",
   "execution_count": 59,
   "id": "24c1138e-345c-4686-ac4e-d88b402a441a",
   "metadata": {},
   "outputs": [],
   "source": [
    "class DataFrameCopy:\n",
    "    def __init__(self, data: dict):\n",
    "        self.data = data\n",
    "        self.create_index() # Run method to create index on initializing of object\n",
    "\n",
    "    # Add index to dataset\n",
    "    def create_index(self):\n",
    "        df = {} \n",
    "        max_rows = 0\n",
    "       \n",
    "        for key, value in self.data.items():  # return max number of rows to propagate index\n",
    "            if len(value) > max_rows:\n",
    "                max_rows = len(value)\n",
    "        \n",
    "        index_length = list(range(0, max_rows)) # Create index column\n",
    "        df['index'] = index_length # Add index to temp dict\n",
    "        df.update(self.data) # Add initialize data to temp dict and reassign data that includes index\n",
    "        self.data = df\n",
    "\n",
    "    # Replicating the head function of pandas\n",
    "    def head(self, rows: int):\n",
    "        table = '<table style=\"border-collapse: collapse; font-family: Arial; font-size: 14px;\">'\n",
    "\n",
    "        # loop to insert columns\n",
    "        table += '<tr>'\n",
    "        for key in self.data.keys():\n",
    "            table += f'<th>{key}</th>'\n",
    "        table += '</tr>'\n",
    "\n",
    "        # Below is the loop to insert rows values for each column\n",
    "        i = 0 # i is used to keep track of the row level, whereby\n",
    "        while True:\n",
    "            for key, value in self.data.items():\n",
    "                table += f\"<td>{value[i]}</td>\"\n",
    "            table += \"</tr>\"\n",
    "            i += 1\n",
    "\n",
    "            # When desired amount of rows have been inserted in html, break loop\n",
    "            if i == rows:\n",
    "               break\n",
    "        table += \"</table>\"\n",
    "\n",
    "        # Read string as html\n",
    "        chart = HTML(table)\n",
    "        \n",
    "        return display(chart)\n",
    "       \n",
    "        \n",
    "        \n",
    "    \n"
   ]
  },
  {
   "cell_type": "markdown",
   "id": "e28bcd5a-97bb-4b31-b661-fd3153bdd76b",
   "metadata": {},
   "source": [
    "Initializing DataFrameCopy class with data in the form of dictionary just like in pandas"
   ]
  },
  {
   "cell_type": "code",
   "execution_count": 60,
   "id": "dd753d83-81b4-4aa9-bc4d-dd45517d8e68",
   "metadata": {},
   "outputs": [],
   "source": [
    "data = {'Col 1': [1, 2, 3, 4, 5], 'Col 2': [6, 7, 8, 9, 10]}\n",
    "df = DataFrameCopy(data)"
   ]
  },
  {
   "cell_type": "markdown",
   "id": "c7eaf802-c78e-4d27-94a4-e8c6223b8f37",
   "metadata": {},
   "source": [
    "Below the data from the object is called where we can see that the index has been automatically created"
   ]
  },
  {
   "cell_type": "code",
   "execution_count": 61,
   "id": "bc7700b6-42a6-4a5d-9156-52f8601fadc4",
   "metadata": {},
   "outputs": [
    {
     "data": {
      "text/plain": [
       "{'index': [0, 1, 2, 3, 4], 'Col 1': [1, 2, 3, 4, 5], 'Col 2': [6, 7, 8, 9, 10]}"
      ]
     },
     "execution_count": 61,
     "metadata": {},
     "output_type": "execute_result"
    }
   ],
   "source": [
    "df.data"
   ]
  },
  {
   "cell_type": "markdown",
   "id": "da8fef27-3c81-493c-852f-332ea642b039",
   "metadata": {},
   "source": [
    "Using the head method for the class works simply like the pandas version, where we can choose the amount of rows we would like to show.\n",
    "The method then displays a html table of the data for improved readability."
   ]
  },
  {
   "cell_type": "code",
   "execution_count": 62,
   "id": "bdf6adbf-e109-4c8d-aba4-4bf4ab08d4fb",
   "metadata": {},
   "outputs": [
    {
     "data": {
      "text/html": [
       "<table border=\"1\" style=\"border-collapse: collapse; font-family: Arial; font-size: 14px;\"><tr><th>index</th><th>Col 1</th><th>Col 2</th></tr><td>0</td><td>1</td><td>6</td></tr><td>1</td><td>2</td><td>7</td></tr><td>2</td><td>3</td><td>8</td></tr><td>3</td><td>4</td><td>9</td></tr></table>"
      ],
      "text/plain": [
       "<IPython.core.display.HTML object>"
      ]
     },
     "metadata": {},
     "output_type": "display_data"
    }
   ],
   "source": [
    "df.head(4)"
   ]
  }
 ],
 "metadata": {
  "kernelspec": {
   "display_name": "Python 3 (ipykernel)",
   "language": "python",
   "name": "python3"
  },
  "language_info": {
   "codemirror_mode": {
    "name": "ipython",
    "version": 3
   },
   "file_extension": ".py",
   "mimetype": "text/x-python",
   "name": "python",
   "nbconvert_exporter": "python",
   "pygments_lexer": "ipython3",
   "version": "3.13.3"
  }
 },
 "nbformat": 4,
 "nbformat_minor": 5
}
