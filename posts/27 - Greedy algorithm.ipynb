{
 "cells": [
  {
   "cell_type": "markdown",
   "id": "6b900b02-e780-454f-83b6-6854f822f42e",
   "metadata": {},
   "source": [
    "---\n",
    "title: '27 - Greedy Cow Transport' \n",
    "date: 2025-08-15\n",
    "categories:\n",
    "    - Python\n",
    "    - daily\n",
    "    - \"Course: Introduction to Computational Thinking and Data Science\"\n",
    "toc: true\n",
    "number-sections: true\n",
    "highlight-style: pygments\n",
    "---\n"
   ]
  },
  {
   "cell_type": "markdown",
   "id": "e13e8389-39b8-439e-a9af-ca10ac8b785b",
   "metadata": {},
   "source": [
    "# 6.0002 Problem Set 1: Space Cows Transportation\n",
    "This is my assignment solution to a part of problemset 1 from this course: [Introduction to Computational Thinking and Data Science](https://ocw.mit.edu/courses/6-0002-introduction-to-computational-thinking-and-data-science-fall-2016/pages/syllabus/)"
   ]
  },
  {
   "cell_type": "markdown",
   "id": "a7ba5f19-b141-4991-b80e-fa38c5650718",
   "metadata": {},
   "source": [
    "## Part A: Transporting Cows "
   ]
  },
  {
   "cell_type": "markdown",
   "id": "c950cc70-173a-4770-b69c-0345dd2458c6",
   "metadata": {},
   "source": [
    "### Problem A.1: Loading Cow Data"
   ]
  },
  {
   "cell_type": "code",
   "execution_count": 89,
   "id": "5d34be03-814d-4be3-a0b2-fd342142d941",
   "metadata": {},
   "outputs": [],
   "source": [
    "def load_cows(filename):\n",
    "    cows = {}\n",
    "    with open(filename, 'r') as f: # open file\n",
    "        for line in f: # iterate through each line in txt file\n",
    "            name, tons = line.strip().split(\",\") # split line \n",
    "            cows[name] = int(tons) # Insert cow name and cow weight into dict\n",
    "    f.close\n",
    "    return cows\n",
    "        "
   ]
  },
  {
   "cell_type": "code",
   "execution_count": 90,
   "id": "150eaa9d-a7cc-4936-b2f0-7a7d21e84051",
   "metadata": {},
   "outputs": [],
   "source": [
    "cows = load_cows('data/day27/ps1_cow_data.txt')"
   ]
  },
  {
   "cell_type": "code",
   "execution_count": 91,
   "id": "bb6290c3-8f60-4433-a8b2-0216d9b1af95",
   "metadata": {},
   "outputs": [
    {
     "data": {
      "text/plain": [
       "{'Maggie': 3,\n",
       " 'Herman': 7,\n",
       " 'Betsy': 9,\n",
       " 'Oreo': 6,\n",
       " 'Moo Moo': 3,\n",
       " 'Milkshake': 2,\n",
       " 'Millie': 5,\n",
       " 'Lola': 2,\n",
       " 'Florence': 2,\n",
       " 'Henrietta': 9}"
      ]
     },
     "execution_count": 91,
     "metadata": {},
     "output_type": "execute_result"
    }
   ],
   "source": [
    "cows"
   ]
  },
  {
   "cell_type": "markdown",
   "id": "f442a8e9-ed3f-4cea-a76e-632091209146",
   "metadata": {},
   "source": [
    "### Problem A.2 Greedy Cow Transport\n",
    "Result of function should be a list of lists with name of the given cows that can be transported for each run. Each list in the list is a new run"
   ]
  },
  {
   "cell_type": "code",
   "execution_count": 169,
   "id": "f8df47d9-4bba-4955-892b-299fa29a613e",
   "metadata": {},
   "outputs": [],
   "source": [
    "def greedy_cow_transport(cows: dict, max_weight):\n",
    "    cows_copy = dict(sorted(cows.items(), key=lambda item: item[1], reverse=True))\n",
    "    transports = []\n",
    "    \n",
    "\n",
    "    while len(cows_copy) > 0: # loop while the copy of cows is not empty\n",
    "        trip = [] # Initialize trip list\n",
    "        trip_weight = 0 # \n",
    "        for cow in list(cows_copy.keys()):              # iterate through a list of the keys in the cows dict (necessary to avoid problem with pop function below\n",
    "            if (trip_weight+cows_copy[cow]) <= max_weight:              # Check if the total trip weight plus the current cow is less than allowed weight\n",
    "                trip.append(cow)                    # If the cow fits on the trip, add to trip\n",
    "                trip_weight += cows_copy[cow]       # add current cow to total weight on trip\n",
    "                cows_copy.pop(cow) # Remove current cow from the dictionary to not iterate through it again.\n",
    "        transports.append(trip) # when no more cows fit, append the current trip to transports lists \n",
    "    return transports   "
   ]
  },
  {
   "cell_type": "markdown",
   "id": "f68ba0c2-f297-4b54-8629-282d5b6e0a70",
   "metadata": {},
   "source": [
    "**Solution**"
   ]
  },
  {
   "cell_type": "code",
   "execution_count": 170,
   "id": "6634d75c-93da-4cde-95ee-2b5067e65052",
   "metadata": {},
   "outputs": [
    {
     "data": {
      "text/plain": [
       "[['Betsy'],\n",
       " ['Henrietta'],\n",
       " ['Herman', 'Maggie'],\n",
       " ['Oreo', 'Moo Moo'],\n",
       " ['Millie', 'Milkshake', 'Lola'],\n",
       " ['Florence']]"
      ]
     },
     "execution_count": 170,
     "metadata": {},
     "output_type": "execute_result"
    }
   ],
   "source": [
    "greedy_cow_transport(cows, 10)"
   ]
  }
 ],
 "metadata": {
  "kernelspec": {
   "display_name": "Python 3 (ipykernel)",
   "language": "python",
   "name": "python3"
  },
  "language_info": {
   "codemirror_mode": {
    "name": "ipython",
    "version": 3
   },
   "file_extension": ".py",
   "mimetype": "text/x-python",
   "name": "python",
   "nbconvert_exporter": "python",
   "pygments_lexer": "ipython3",
   "version": "3.13.3"
  }
 },
 "nbformat": 4,
 "nbformat_minor": 5
}
